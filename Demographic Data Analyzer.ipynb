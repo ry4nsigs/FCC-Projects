{
 "cells": [
  {
   "cell_type": "code",
   "execution_count": 1,
   "id": "d9175ed0-2382-41fa-8210-c7c140f68804",
   "metadata": {},
   "outputs": [],
   "source": [
    "import pandas as pd"
   ]
  },
  {
   "cell_type": "code",
   "execution_count": 5,
   "id": "a0795a78-0c57-4109-9205-d9061819d650",
   "metadata": {},
   "outputs": [],
   "source": [
    "df = pd.read_csv('adult.data.csv') #set working drive or file pathway correctly before usage"
   ]
  },
  {
   "cell_type": "code",
   "execution_count": 6,
   "id": "91e2562e-97f7-4f2b-9de8-42d901a9bb9d",
   "metadata": {},
   "outputs": [
    {
     "data": {
      "text/html": [
       "<div>\n",
       "<style scoped>\n",
       "    .dataframe tbody tr th:only-of-type {\n",
       "        vertical-align: middle;\n",
       "    }\n",
       "\n",
       "    .dataframe tbody tr th {\n",
       "        vertical-align: top;\n",
       "    }\n",
       "\n",
       "    .dataframe thead th {\n",
       "        text-align: right;\n",
       "    }\n",
       "</style>\n",
       "<table border=\"1\" class=\"dataframe\">\n",
       "  <thead>\n",
       "    <tr style=\"text-align: right;\">\n",
       "      <th></th>\n",
       "      <th>age</th>\n",
       "      <th>workclass</th>\n",
       "      <th>fnlwgt</th>\n",
       "      <th>education</th>\n",
       "      <th>education-num</th>\n",
       "      <th>marital-status</th>\n",
       "      <th>occupation</th>\n",
       "      <th>relationship</th>\n",
       "      <th>race</th>\n",
       "      <th>sex</th>\n",
       "      <th>capital-gain</th>\n",
       "      <th>capital-loss</th>\n",
       "      <th>hours-per-week</th>\n",
       "      <th>native-country</th>\n",
       "      <th>salary</th>\n",
       "    </tr>\n",
       "  </thead>\n",
       "  <tbody>\n",
       "    <tr>\n",
       "      <th>0</th>\n",
       "      <td>39</td>\n",
       "      <td>State-gov</td>\n",
       "      <td>77516</td>\n",
       "      <td>Bachelors</td>\n",
       "      <td>13</td>\n",
       "      <td>Never-married</td>\n",
       "      <td>Adm-clerical</td>\n",
       "      <td>Not-in-family</td>\n",
       "      <td>White</td>\n",
       "      <td>Male</td>\n",
       "      <td>2174</td>\n",
       "      <td>0</td>\n",
       "      <td>40</td>\n",
       "      <td>United-States</td>\n",
       "      <td>&lt;=50K</td>\n",
       "    </tr>\n",
       "    <tr>\n",
       "      <th>1</th>\n",
       "      <td>50</td>\n",
       "      <td>Self-emp-not-inc</td>\n",
       "      <td>83311</td>\n",
       "      <td>Bachelors</td>\n",
       "      <td>13</td>\n",
       "      <td>Married-civ-spouse</td>\n",
       "      <td>Exec-managerial</td>\n",
       "      <td>Husband</td>\n",
       "      <td>White</td>\n",
       "      <td>Male</td>\n",
       "      <td>0</td>\n",
       "      <td>0</td>\n",
       "      <td>13</td>\n",
       "      <td>United-States</td>\n",
       "      <td>&lt;=50K</td>\n",
       "    </tr>\n",
       "    <tr>\n",
       "      <th>2</th>\n",
       "      <td>38</td>\n",
       "      <td>Private</td>\n",
       "      <td>215646</td>\n",
       "      <td>HS-grad</td>\n",
       "      <td>9</td>\n",
       "      <td>Divorced</td>\n",
       "      <td>Handlers-cleaners</td>\n",
       "      <td>Not-in-family</td>\n",
       "      <td>White</td>\n",
       "      <td>Male</td>\n",
       "      <td>0</td>\n",
       "      <td>0</td>\n",
       "      <td>40</td>\n",
       "      <td>United-States</td>\n",
       "      <td>&lt;=50K</td>\n",
       "    </tr>\n",
       "    <tr>\n",
       "      <th>3</th>\n",
       "      <td>53</td>\n",
       "      <td>Private</td>\n",
       "      <td>234721</td>\n",
       "      <td>11th</td>\n",
       "      <td>7</td>\n",
       "      <td>Married-civ-spouse</td>\n",
       "      <td>Handlers-cleaners</td>\n",
       "      <td>Husband</td>\n",
       "      <td>Black</td>\n",
       "      <td>Male</td>\n",
       "      <td>0</td>\n",
       "      <td>0</td>\n",
       "      <td>40</td>\n",
       "      <td>United-States</td>\n",
       "      <td>&lt;=50K</td>\n",
       "    </tr>\n",
       "    <tr>\n",
       "      <th>4</th>\n",
       "      <td>28</td>\n",
       "      <td>Private</td>\n",
       "      <td>338409</td>\n",
       "      <td>Bachelors</td>\n",
       "      <td>13</td>\n",
       "      <td>Married-civ-spouse</td>\n",
       "      <td>Prof-specialty</td>\n",
       "      <td>Wife</td>\n",
       "      <td>Black</td>\n",
       "      <td>Female</td>\n",
       "      <td>0</td>\n",
       "      <td>0</td>\n",
       "      <td>40</td>\n",
       "      <td>Cuba</td>\n",
       "      <td>&lt;=50K</td>\n",
       "    </tr>\n",
       "  </tbody>\n",
       "</table>\n",
       "</div>"
      ],
      "text/plain": [
       "   age         workclass  fnlwgt  education  education-num  \\\n",
       "0   39         State-gov   77516  Bachelors             13   \n",
       "1   50  Self-emp-not-inc   83311  Bachelors             13   \n",
       "2   38           Private  215646    HS-grad              9   \n",
       "3   53           Private  234721       11th              7   \n",
       "4   28           Private  338409  Bachelors             13   \n",
       "\n",
       "       marital-status         occupation   relationship   race     sex  \\\n",
       "0       Never-married       Adm-clerical  Not-in-family  White    Male   \n",
       "1  Married-civ-spouse    Exec-managerial        Husband  White    Male   \n",
       "2            Divorced  Handlers-cleaners  Not-in-family  White    Male   \n",
       "3  Married-civ-spouse  Handlers-cleaners        Husband  Black    Male   \n",
       "4  Married-civ-spouse     Prof-specialty           Wife  Black  Female   \n",
       "\n",
       "   capital-gain  capital-loss  hours-per-week native-country salary  \n",
       "0          2174             0              40  United-States  <=50K  \n",
       "1             0             0              13  United-States  <=50K  \n",
       "2             0             0              40  United-States  <=50K  \n",
       "3             0             0              40  United-States  <=50K  \n",
       "4             0             0              40           Cuba  <=50K  "
      ]
     },
     "execution_count": 6,
     "metadata": {},
     "output_type": "execute_result"
    }
   ],
   "source": [
    "df.head()"
   ]
  },
  {
   "cell_type": "code",
   "execution_count": 7,
   "id": "f1498326-ceda-43c2-aee1-771699f496bc",
   "metadata": {},
   "outputs": [
    {
     "data": {
      "text/plain": [
       "race\n",
       "White                 27816\n",
       "Black                  3124\n",
       "Asian-Pac-Islander     1039\n",
       "Amer-Indian-Eskimo      311\n",
       "Other                   271\n",
       "Name: count, dtype: int64"
      ]
     },
     "execution_count": 7,
     "metadata": {},
     "output_type": "execute_result"
    }
   ],
   "source": [
    "# How many people of each race are represented in this dataset?\n",
    "df.value_counts('race')"
   ]
  },
  {
   "cell_type": "code",
   "execution_count": 8,
   "id": "454d7963-8c82-485e-881f-2fd0d67674fd",
   "metadata": {},
   "outputs": [
    {
     "data": {
      "text/plain": [
       "np.float64(39.43354749885268)"
      ]
     },
     "execution_count": 8,
     "metadata": {},
     "output_type": "execute_result"
    }
   ],
   "source": [
    "# What is the average age of men?\n",
    "df.loc[df.sex == \"Male\"]['age'].mean()"
   ]
  },
  {
   "cell_type": "code",
   "execution_count": 9,
   "id": "a99bbe3b-25d0-490b-b9c6-e17a343d0c04",
   "metadata": {},
   "outputs": [
    {
     "data": {
      "text/plain": [
       "16.44605509658794"
      ]
     },
     "execution_count": 9,
     "metadata": {},
     "output_type": "execute_result"
    }
   ],
   "source": [
    "# What is the percentage of people who have a Bachelor's degree?\n",
    "sum(df['education'] == 'Bachelors') / len(df.index) * 100"
   ]
  },
  {
   "cell_type": "code",
   "execution_count": 10,
   "id": "62a237f7-e99e-479e-a7f3-e7dd7dda9c3d",
   "metadata": {},
   "outputs": [
    {
     "data": {
      "text/plain": [
       "46.535843011613935"
      ]
     },
     "execution_count": 10,
     "metadata": {},
     "output_type": "execute_result"
    }
   ],
   "source": [
    "# What percentage of people with advanced education (Bachelors, Masters, or Doctorate) make more than 50K?\n",
    "mask = (df['education'] == 'Bachelors') | (df['education'] == 'Masters') | (df['education'] == 'Doctorate')\n",
    "sum(df[mask]['salary'] == '>50K') / len(df[mask].index) * 100"
   ]
  },
  {
   "cell_type": "code",
   "execution_count": 11,
   "id": "b827861e-6652-4fd9-af13-ed1d62d690af",
   "metadata": {},
   "outputs": [
    {
     "data": {
      "text/plain": [
       "17.3713601914639"
      ]
     },
     "execution_count": 11,
     "metadata": {},
     "output_type": "execute_result"
    }
   ],
   "source": [
    "# What percentage of people without advanced education make more than 50K?\n",
    "sum(df[-mask]['salary'] == '>50K') / len(df[-mask].index) * 100"
   ]
  },
  {
   "cell_type": "code",
   "execution_count": 12,
   "id": "28973322-62b2-42b3-a8b8-35c7d8ccce40",
   "metadata": {},
   "outputs": [
    {
     "data": {
      "text/plain": [
       "np.int64(1)"
      ]
     },
     "execution_count": 12,
     "metadata": {},
     "output_type": "execute_result"
    }
   ],
   "source": [
    "# What is the minimum number of hours a person works per week?\n",
    "df['hours-per-week'].min()"
   ]
  },
  {
   "cell_type": "code",
   "execution_count": 13,
   "id": "dbcc9e8a-e898-44a9-9f8f-2456466e5e35",
   "metadata": {},
   "outputs": [
    {
     "data": {
      "text/plain": [
       "10.0"
      ]
     },
     "execution_count": 13,
     "metadata": {},
     "output_type": "execute_result"
    }
   ],
   "source": [
    "# What percentage of people who work the minimum number of hours per week have a salary of more than 50K?\n",
    "mask = df['hours-per-week'] == df['hours-per-week'].min()\n",
    "sum(df[mask]['salary'] == '>50K') / len(df[mask].index) * 100"
   ]
  },
  {
   "cell_type": "code",
   "execution_count": 14,
   "id": "626e1ef3-1bb0-4301-8299-7ea161985d93",
   "metadata": {},
   "outputs": [
    {
     "data": {
      "text/plain": [
       "'Iran'"
      ]
     },
     "execution_count": 14,
     "metadata": {},
     "output_type": "execute_result"
    }
   ],
   "source": [
    "# What country has the highest percentage of people that earn >50K and what is that percentage?\n",
    "mask = (df['salary'] == '>50K')\n",
    "overall = df.value_counts('native-country').to_dict()\n",
    "totals = df[mask].value_counts('native-country').to_dict()\n",
    "proportions = {x: totals[x]/overall[x]*100 for x in totals}\n",
    "max(proportions, key = proportions.get)"
   ]
  },
  {
   "cell_type": "code",
   "execution_count": 15,
   "id": "8116d205-f68b-4fbe-bd73-f91f31845e9a",
   "metadata": {},
   "outputs": [
    {
     "data": {
      "text/plain": [
       "41.86046511627907"
      ]
     },
     "execution_count": 15,
     "metadata": {},
     "output_type": "execute_result"
    }
   ],
   "source": [
    "max(proportions.values())"
   ]
  },
  {
   "cell_type": "code",
   "execution_count": 16,
   "id": "220ca144-67ef-44e6-a4a5-ca9696884eb8",
   "metadata": {},
   "outputs": [
    {
     "data": {
      "text/plain": [
       "'Prof-specialty'"
      ]
     },
     "execution_count": 16,
     "metadata": {},
     "output_type": "execute_result"
    }
   ],
   "source": [
    "# Identify the most popular occupation for those who earn >50K in India\n",
    "mask = (df['native-country'] == 'India') & (df['salary'] == '>50K')\n",
    "df[mask].value_counts('occupation').idxmax()"
   ]
  },
  {
   "cell_type": "code",
   "execution_count": 17,
   "id": "ef6a332c-c95a-43ae-af3f-f39461812f96",
   "metadata": {},
   "outputs": [],
   "source": [
    "# Packaging the above into a single function for use with FreeCodeCamp test cases\n",
    "def calculate_demographic_data(print_data=True):\n",
    "    # Read data from file\n",
    "    df = pd.read_csv('adult.data.csv') #set working drive or file pathway correctly before usage\n",
    "\n",
    "    # How many of each race are represented in this dataset? This should be a Pandas series with race names as the index labels.\n",
    "    race_count = df.value_counts('race')\n",
    "\n",
    "    # What is the average age of men?\n",
    "    average_age_men = df.loc[df.sex == \"Male\"]['age'].mean()\n",
    "\n",
    "    # What is the percentage of people who have a Bachelor's degree?\n",
    "    percentage_bachelors = sum(df['education'] == 'Bachelors') / len(df.index) * 100\n",
    "\n",
    "    # What percentage of people with advanced education (`Bachelors`, `Masters`, or `Doctorate`) make more than 50K?\n",
    "    # What percentage of people without advanced education make more than 50K?\n",
    "    mask = (df['education'] == 'Bachelors') | (df['education'] == 'Masters') | (df['education'] == 'Doctorate')\n",
    "    \n",
    "    # percentage with salary >50K\n",
    "    higher_education_rich = sum(df[mask]['salary'] == '>50K') / len(df[mask].index) * 100\n",
    "    lower_education_rich = sum(df[-mask]['salary'] == '>50K') / len(df[-mask].index) * 100\n",
    "\n",
    "    # What is the minimum number of hours a person works per week (hours-per-week feature)?\n",
    "    min_work_hours = df['hours-per-week'].min()\n",
    "\n",
    "    # What percentage of the people who work the minimum number of hours per week have a salary of >50K?\n",
    "    mask = df['hours-per-week'] == df['hours-per-week'].min()\n",
    "    rich_percentage = sum(df[mask]['salary'] == '>50K') / len(df[mask].index) * 100\n",
    "\n",
    "    # What country has the highest percentage of people that earn >50K?\n",
    "    mask = (df['salary'] == '>50K')\n",
    "    overall = df.value_counts('native-country').to_dict()\n",
    "    totals = df[mask].value_counts('native-country').to_dict()\n",
    "    proportions = {x: totals[x]/overall[x]*100 for x in totals}\n",
    "\n",
    "    highest_earning_country = max(proportions, key = proportions.get)\n",
    "    highest_earning_country_percentage = max(proportions.values())\n",
    "\n",
    "    # Identify the most popular occupation for those who earn >50K in India.\n",
    "    mask = (df['native-country'] == 'India') & (df['salary'] == '>50K')\n",
    "    top_IN_occupation = df[mask].value_counts('occupation').idxmax()\n",
    "\n",
    "    if print_data:\n",
    "        print(\"Number of each race:\\n\", race_count) \n",
    "        print(\"Average age of men:\", average_age_men)\n",
    "        print(f\"Percentage with Bachelors degrees: {percentage_bachelors}%\")\n",
    "        print(f\"Percentage with higher education that earn >50K: {higher_education_rich}%\")\n",
    "        print(f\"Percentage without higher education that earn >50K: {lower_education_rich}%\")\n",
    "        print(f\"Min work time: {min_work_hours} hours/week\")\n",
    "        print(f\"Percentage of rich among those who work fewest hours: {rich_percentage}%\")\n",
    "        print(\"Country with highest percentage of rich:\", highest_earning_country)\n",
    "        print(f\"Highest percentage of rich people in country: {highest_earning_country_percentage}%\")\n",
    "        print(\"Top occupations in India:\", top_IN_occupation)\n",
    "\n",
    "    return {\n",
    "        'race_count': race_count,\n",
    "        'average_age_men': average_age_men,\n",
    "        'percentage_bachelors': percentage_bachelors,\n",
    "        'higher_education_rich': higher_education_rich,\n",
    "        'lower_education_rich': lower_education_rich,\n",
    "        'min_work_hours': min_work_hours,\n",
    "        'rich_percentage': rich_percentage,\n",
    "        'highest_earning_country': highest_earning_country,\n",
    "        'highest_earning_country_percentage':\n",
    "        highest_earning_country_percentage,\n",
    "        'top_IN_occupation': top_IN_occupation\n",
    "    }"
   ]
  }
 ],
 "metadata": {
  "kernelspec": {
   "display_name": "Python 3 (ipykernel)",
   "language": "python",
   "name": "python3"
  },
  "language_info": {
   "codemirror_mode": {
    "name": "ipython",
    "version": 3
   },
   "file_extension": ".py",
   "mimetype": "text/x-python",
   "name": "python",
   "nbconvert_exporter": "python",
   "pygments_lexer": "ipython3",
   "version": "3.13.0"
  }
 },
 "nbformat": 4,
 "nbformat_minor": 5
}
